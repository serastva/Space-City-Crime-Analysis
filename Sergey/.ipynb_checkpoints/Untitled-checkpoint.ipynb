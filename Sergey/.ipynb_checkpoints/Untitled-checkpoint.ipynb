{
 "cells": [
  {
   "cell_type": "code",
   "execution_count": null,
   "id": "077ae6d1",
   "metadata": {},
   "outputs": [],
   "source": [
    "#import dependencies\n",
    "import requests\n",
    "#from census import Census\n",
    "import json\n",
    "from config import census_api_key, sql_pass_key\n",
    "import pandas as pd\n",
    "from IPython.display import clear_output\n",
    "import statistics\n",
    "import censusgeocode as cg\n",
    "import time"
   ]
  },
  {
   "cell_type": "code",
   "execution_count": null,
   "id": "b26a0c2d",
   "metadata": {},
   "outputs": [],
   "source": [
    "base_url=\"https://api.census.gov/data\"\n",
    "year=\"2020\"\n",
    "variable=\"S0101_C01_001E,S1101_C01_001E,S1901_C01_012E\"\n",
    "\n",
    "\n",
    "\n",
    "https://api.census.gov/data/2019/acs/acs5?get=NAME,B01001_001E&for=zip%20code%20tabulation%20area:*&in=state:*&key=YOUR_KEY_GOES_HERE"
   ]
  },
  {
   "cell_type": "code",
   "execution_count": null,
   "id": "94df8979",
   "metadata": {},
   "outputs": [],
   "source": [
    "https://api.census.gov/data/2019/acs/acs5?get=NAME,B01001_001E&for=zip%20code%20tabulation%20area:*&key=YOUR_KEY_GOES_HERE\t\n",
    "https://api.census.gov/data/2019/acs/acs5?get=NAME,B01001_001E&for=zip%20code%20tabulation%20area:*&in=state:*&key=YOUR_KEY_GOES_HERE\t\n",
    "https://api.census.gov/data/2019/acs/acs5?get=NAME,B01001_001E&for=zip%20code%20tabulation%20area:00601&in=state:72&key=YOUR_KEY_GOES_HERE"
   ]
  }
 ],
 "metadata": {
  "kernelspec": {
   "display_name": "Python 3",
   "language": "python",
   "name": "python3"
  },
  "language_info": {
   "codemirror_mode": {
    "name": "ipython",
    "version": 3
   },
   "file_extension": ".py",
   "mimetype": "text/x-python",
   "name": "python",
   "nbconvert_exporter": "python",
   "pygments_lexer": "ipython3",
   "version": "3.8.8"
  }
 },
 "nbformat": 4,
 "nbformat_minor": 5
}
